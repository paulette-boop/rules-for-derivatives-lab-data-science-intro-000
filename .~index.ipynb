{
 "cells": [
  {
   "cell_type": "markdown",
   "metadata": {},
   "source": [
    "# Derivative rules lab"
   ]
  },
  {
   "cell_type": "markdown",
   "metadata": {},
   "source": [
    "In this lab, we will practice implementing the rules for derivatives with code.  This lab will review your understanding of the following:\n",
    "\n",
    "1. The power rule\n",
    "2. The constant factor rule\n",
    "3. The addition rule"
   ]
  },
  {
   "cell_type": "markdown",
   "metadata": {},
   "source": [
    "As you know we can represent polynomial functions as a list of tuples.  \n",
    "\n",
    "* Each term is represented as a single tuple, for example, $2x^3$ is expressed as `(2, 3)`.\n",
    "* And an entire function is expressed as a list of tuples, like $f(x)=2x^3+7x$ is expressed as `[(2, 3), (7, 1)]`.\n",
    "* Between elements in our list, we imagine there is a plus sign. To subtract elements we simply place a negative sign before the first element in the tuple. For example, $f(x)= x^2 - 4x$ is represented as `[(1, 2), (-4, 1)]`. "
   ]
  },
  {
   "cell_type": "markdown",
   "metadata": {},
   "source": [
    "> **Remember:** tuples are just like lists except that they are immutable.  We can access elements of a tuple just as we do a list.\n",
    "\n",
    "```python\n",
    "two_x_cubed = (2, 3)\n",
    "two_x_cubed[1] # 3\n",
    "```\n",
    "\n",
    "> But attempting to reassign the elements of a tuple raises an error\n",
    "\n",
    "```python\n",
    "two_x_cubed[1] = 4\n",
    "TypeError: 'tuple' object does not support item assignment\n",
    "\n",
    "```"
   ]
  },
  {
   "cell_type": "markdown",
   "metadata": {},
   "source": [
    "### Writing our derivative functions\n",
    "\n",
    "Let's start by writing a function called `find_term_derivative` that returns the derivative of a single term.  The function takes the derivative of one term represented as a tuple, say $(1, 3)$, and returns its derivative, also represented as a tuple.  For example, if the function is $f(x) = 2x^4$ so its derivative is $f'(x) = 8x^3$, then our function `find_term_derivative` should take an input of `(2, 4)` and return `(8, 3)`."
   ]
  },
  {
   "cell_type": "markdown",
   "metadata": {},
   "source": [
    "In writing `find_term_derivative`, let's first consider the function $f(x) = x^3$, and write the function so that it takes the derivative of the term."
   ]
  },
  {
   "cell_type": "code",
   "execution_count": 1,
   "metadata": {
    "scrolled": true
   },
   "outputs": [
    {
     "data": {
      "text/plain": [
       "1"
      ]
     },
     "execution_count": 1,
     "metadata": {},
     "output_type": "execute_result"
    }
   ],
   "source": [
    "one_x_cubed = (1, 3)\n",
    "one_x_cubed[0]"
   ]
  },
  {
   "cell_type": "code",
   "execution_count": 2,
   "metadata": {},
   "outputs": [
    {
     "name": "stdout",
     "output_type": "stream",
     "text": [
      "1\n",
      "3\n"
     ]
    }
   ],
   "source": [
    "one_x_cubed = (1, 3)\n",
    "print(one_x_cubed[0])\n",
    "print(one_x_cubed[1])\n",
    "\n"
   ]
  },
  {
   "cell_type": "code",
   "execution_count": 3,
   "metadata": {},
   "outputs": [],
   "source": [
    "x = [5]"
   ]
  },
  {
   "cell_type": "code",
   "execution_count": 4,
   "metadata": {},
   "outputs": [
    {
     "data": {
      "text/plain": [
       "[5]"
      ]
     },
     "execution_count": 4,
     "metadata": {},
     "output_type": "execute_result"
    }
   ],
   "source": [
    "x"
   ]
  },
  {
   "cell_type": "code",
   "execution_count": 5,
   "metadata": {},
   "outputs": [],
   "source": [
    "h = x.append(6)"
   ]
  },
  {
   "cell_type": "code",
   "execution_count": 6,
   "metadata": {},
   "outputs": [
    {
     "data": {
      "text/plain": [
       "NoneType"
      ]
     },
     "execution_count": 6,
     "metadata": {},
     "output_type": "execute_result"
    }
   ],
   "source": [
    "type(h)"
   ]
  },
  {
   "cell_type": "code",
   "execution_count": 7,
   "metadata": {},
   "outputs": [
    {
     "name": "stdout",
     "output_type": "stream",
     "text": [
      "constant of the function tuple: 1\n",
      "exponent of the function tuple: 3\n",
      "(1, 3)  is type  <class 'tuple'>\n",
      "(1, 3)  is now  [1, 3]\n",
      "constant of function tuple is type:  <class 'int'>\n",
      "exponent of function tuple is type:  <class 'int'>\n",
      "derivative constant is: 1  multiplied by 3 equals  3\n",
      "derivative constant is type: <class 'int'>\n",
      "derivative exponent 3 minus 1 equals 2\n",
      "derivative exponent is type: <class 'int'>\n",
      "THE FUNCTION DERIVATIVE of type  <class 'list'> =  [3, 2]\n",
      "converted to tuple is:  (3, 2)\n",
      "THE FUNCTION DERIVATIVE MULTIPLE SINGLE INTEGER LIST is type  <class 'list'> =  [3, 2]\n",
      "converted to tuple is:  (3, 2, 10, 1)\n"
     ]
    }
   ],
   "source": [
    "one_x_cubed = (1, 3)\n",
    "\n",
    "print('constant of the function tuple:',one_x_cubed[0])\n",
    "print('exponent of the function tuple:',one_x_cubed[1])\n",
    "print(str(one_x_cubed),' is type ', type(one_x_cubed))\n",
    "#testing converting the single tuple to a list\n",
    "print(str(one_x_cubed),' is now ', list(one_x_cubed))\n",
    "\n",
    "\n",
    "constant=one_x_cubed[0]\n",
    "exponent=one_x_cubed[1]\n",
    "print('constant of function tuple is type: ', type(constant))\n",
    "print('exponent of function tuple is type: ', type(exponent))\n",
    "\n",
    "derivative_constant = constant * exponent\n",
    "print('derivative constant is:', constant,' multiplied by', exponent,'equals ', derivative_constant)\n",
    "print('derivative constant is type:', type(derivative_constant))\n",
    "\n",
    "derivative_exponent = exponent - 1 #currently assumes that exponent does not equal 0\n",
    "print('derivative exponent',exponent,'minus 1 equals', derivative_exponent)\n",
    "print('derivative exponent is type:', type(derivative_exponent))\n",
    "\n",
    "function_derivative=[] #creates an empty list\n",
    "function_derivative.append(derivative_constant) # adds the first element to the list created for the new function\n",
    "function_derivative.append(derivative_exponent) # adds the second element to the list\n",
    "# the result is two figures in a list but I need to convert to a tuple\n",
    "\n",
    "print('THE FUNCTION DERIVATIVE of type ',type(function_derivative),'= ',function_derivative)\n",
    "print('converted to tuple is: ',tuple(function_derivative))\n",
    "\n",
    "constant2=10\n",
    "exponent2=1\n",
    "\n",
    "function_derivative_multi_single=[] #creates an empty list to test more than two items in a list\n",
    "function_derivative_multi_single.append(derivative_constant) # adds the first element to the list created for the new function\n",
    "function_derivative_multi_single.append(derivative_exponent) # adds the second element to the list\n",
    "function_derivative_multi_single.append(constant2) # adds the third element to the list created for the new function\n",
    "function_derivative_multi_single.append(exponent2) # adds the fourth element to the list\n",
    "print('THE FUNCTION DERIVATIVE MULTIPLE SINGLE INTEGER LIST is type ',type(function_derivative_multi_single),'= ',function_derivative)\n",
    "print('converted to tuple is: ',tuple(function_derivative_multi_single))\n"
   ]
  },
  {
   "cell_type": "code",
   "execution_count": 8,
   "metadata": {},
   "outputs": [
    {
     "name": "stdout",
     "output_type": "stream",
     "text": [
      "constant of the function tuple: 2\n",
      "exponent of the function tuple: 2\n",
      "(2, 2)  is type  <class 'tuple'>\n",
      "(2, 2)  is now  [2, 2]\n",
      "exponent is MORE than ONE\n",
      "THE FUNCTION DERIVATIVE of type  <class 'list'> =  [4, 1]\n",
      "converted to tuple is:  (4, 1)\n",
      "(4, 1)\n"
     ]
    },
    {
     "data": {
      "text/plain": [
       "(4, 1)"
      ]
     },
     "execution_count": 8,
     "metadata": {},
     "output_type": "execute_result"
    }
   ],
   "source": [
    "\n",
    "\n",
    "one_x_cubed = (1, 3)\n",
    "two_x_squared = (2, 2)\n",
    "four_x = (4,1)\n",
    "\n",
    "term = (10,0) #substituting the variable for the generic name 'term'\n",
    "\n",
    "def find_term_derivative(term):\n",
    "    print('constant of the function tuple:',term[0])\n",
    "    print('exponent of the function tuple:',term[1])\n",
    "    print(str(term),' is type ', type(term))\n",
    "#testing converting the single tuple to a list\n",
    "    print(str(term),' is now ', list(term))\n",
    "\n",
    "# testing the exponent to establish what to do with x to the power zero\n",
    "    \n",
    "    constant = term[0]\n",
    "    n = term[1]\n",
    "     \n",
    "    \n",
    "    if n == 0:\n",
    "        print(n,' is exponent of function is EQUAL to ZERO')\n",
    "        derivative_constant = 0\n",
    "        derivative_exponent = 0\n",
    "    elif n == 1:\n",
    "        print(n,' exponent of the x^0')\n",
    "        derivative_constant = constant       \n",
    "        derivative_exponent = 0\n",
    "    else:\n",
    "        print('exponent is MORE than ONE')\n",
    "        derivative_constant = constant * n \n",
    "        derivative_exponent = n - 1\n",
    "\n",
    "    f_x_derivative=[] # creates an empty list for the resulting derivative elements\n",
    "    f_x_derivative.append(derivative_constant) # adds the first element to the list created for the new function\n",
    "    f_x_derivative.append(derivative_exponent) # adds the second element to the list\n",
    "    print('THE FUNCTION DERIVATIVE of type ',type(f_x_derivative),'= ',f_x_derivative)\n",
    "    print('converted to tuple is: ',tuple(f_x_derivative))\n",
    "    derivative_any_polynomial = tuple(f_x_derivative)\n",
    "    print(derivative_any_polynomial)\n",
    "    return derivative_any_polynomial # this is the final output of output_at\n",
    "\n",
    "find_term_derivative(two_x_squared)"
   ]
  },
  {
   "cell_type": "code",
   "execution_count": 37,
   "metadata": {},
   "outputs": [],
   "source": [
    "\n"
   ]
  },
  {
   "cell_type": "code",
   "execution_count": 9,
   "metadata": {},
   "outputs": [
    {
     "name": "stdout",
     "output_type": "stream",
     "text": [
      "constant of the function tuple: 1\n",
      "exponent of the function tuple: 1\n",
      "(1, 1)  is type  <class 'tuple'>\n",
      "(1, 1)  is now  [1, 1]\n",
      "1  exponent of the x^0\n",
      "THE FUNCTION DERIVATIVE of type  <class 'list'> =  [1, 0]\n",
      "converted to tuple is:  (1, 0)\n",
      "(1, 0)\n"
     ]
    },
    {
     "data": {
      "text/plain": [
       "(1, 0)"
      ]
     },
     "execution_count": 9,
     "metadata": {},
     "output_type": "execute_result"
    }
   ],
   "source": [
    "find_term_derivative((1,1))"
   ]
  },
  {
   "cell_type": "code",
   "execution_count": 10,
   "metadata": {},
   "outputs": [
    {
     "name": "stdout",
     "output_type": "stream",
     "text": [
      "constant of the function tuple: 1\n",
      "exponent of the function tuple: 3\n",
      "(1, 3)  is type  <class 'tuple'>\n",
      "(1, 3)  is now  [1, 3]\n",
      "exponent is MORE than ONE\n",
      "THE FUNCTION DERIVATIVE of type  <class 'list'> =  [3, 2]\n",
      "converted to tuple is:  (3, 2)\n",
      "(3, 2)\n"
     ]
    },
    {
     "data": {
      "text/plain": [
       "(3, 2)"
      ]
     },
     "execution_count": 10,
     "metadata": {},
     "output_type": "execute_result"
    }
   ],
   "source": [
    "one_x_cubed = (1, 3)\n",
    "two_x_squared = (2, 2)\n",
    "four_x = (4,1)\n",
    "find_term_derivative(one_x_cubed) \n",
    "# assumes a tuple of 2 in. \n",
    "# this function can take any single polynomial"
   ]
  },
  {
   "cell_type": "code",
   "execution_count": 11,
   "metadata": {},
   "outputs": [
    {
     "name": "stdout",
     "output_type": "stream",
     "text": [
      "constant of the function tuple: 10\n",
      "exponent of the function tuple: 2\n",
      "(10, 2)  is type  <class 'tuple'>\n",
      "(10, 2)  is now  [10, 2]\n",
      "exponent is MORE than ONE\n",
      "THE FUNCTION DERIVATIVE of type  <class 'list'> =  [20, 1]\n",
      "converted to tuple is:  (20, 1)\n",
      "(20, 1)\n"
     ]
    },
    {
     "data": {
      "text/plain": [
       "(20, 1)"
      ]
     },
     "execution_count": 11,
     "metadata": {},
     "output_type": "execute_result"
    }
   ],
   "source": [
    "find_term_derivative((10, 2))"
   ]
  },
  {
   "cell_type": "markdown",
   "metadata": {},
   "source": [
    "### find_term_derivative(one_x_cubed) # (3, 2)"
   ]
  },
  {
   "cell_type": "markdown",
   "metadata": {},
   "source": [
    "Let's try the function with $f(x) = 2x^2$."
   ]
  },
  {
   "cell_type": "code",
   "execution_count": 12,
   "metadata": {},
   "outputs": [
    {
     "name": "stdout",
     "output_type": "stream",
     "text": [
      "constant of the function tuple: 4\n",
      "exponent of the function tuple: 2\n",
      "(4, 2)  is type  <class 'tuple'>\n",
      "(4, 2)  is now  [4, 2]\n",
      "exponent is MORE than ONE\n",
      "THE FUNCTION DERIVATIVE of type  <class 'list'> =  [8, 1]\n",
      "converted to tuple is:  (8, 1)\n",
      "(8, 1)\n"
     ]
    },
    {
     "data": {
      "text/plain": [
       "(8, 1)"
      ]
     },
     "execution_count": 12,
     "metadata": {},
     "output_type": "execute_result"
    }
   ],
   "source": [
    "two_x_squared = (2, 2)\n",
    "one_x_plus_two = [(1, 1),(2,0)]\n",
    "four_x_squared_plus_four_x_minus_ten = [(4,2), (4,1), (-10,0)]\n",
    "four_x_squared = (4,2)\n",
    "find_term_derivative(four_x_squared)\n"
   ]
  },
  {
   "cell_type": "markdown",
   "metadata": {},
   "source": [
    "Ok, now that we have a Python function called `find_derivative` that can take a derivative of a term, write a function that take as an argument our multi-termed function, and return the derivative of the multi-term function represented as a list of tuples.  \n",
    "\n",
    "For example, if the derivative of a function $f(x)$ is $f'(x) = 2x^3 + 4x^2$, then the function `find_derivative` should return `[(2, 3), (4, 2)]`.\n",
    "\n",
    "> Imagine that a plus sign separates each of our terms.  Again, if we need a negative term, then we add a minus sign to the first element of the tuple.\n",
    "\n",
    "Let's apply this function to $f(x) = 4x^3 - 3x$."
   ]
  },
  {
   "cell_type": "code",
   "execution_count": 13,
   "metadata": {},
   "outputs": [
    {
     "data": {
      "text/plain": [
       "list"
      ]
     },
     "execution_count": 13,
     "metadata": {},
     "output_type": "execute_result"
    }
   ],
   "source": [
    "four_x_squared_plus_four_x_minus_10 = [(4,2), (4,1), (10,0)]\n",
    "type(four_x_squared_plus_four_x_minus_10) # list"
   ]
  },
  {
   "cell_type": "code",
   "execution_count": 14,
   "metadata": {},
   "outputs": [
    {
     "data": {
      "text/plain": [
       "3"
      ]
     },
     "execution_count": 14,
     "metadata": {},
     "output_type": "execute_result"
    }
   ],
   "source": [
    "four_x_squared_plus_four_x_minus_10[0]\n",
    "len(four_x_squared_plus_four_x_minus_10)"
   ]
  },
  {
   "cell_type": "code",
   "execution_count": null,
   "metadata": {},
   "outputs": [],
   "source": [
    "\n"
   ]
  },
  {
   "cell_type": "code",
   "execution_count": 15,
   "metadata": {},
   "outputs": [],
   "source": [
    "\n",
    "\n",
    "\n",
    "\n"
   ]
  },
  {
   "cell_type": "code",
   "execution_count": 110,
   "metadata": {},
   "outputs": [
    {
     "name": "stdout",
     "output_type": "stream",
     "text": [
      "[(4, 2), (4, 1), (-10, 0)]\n",
      "Print2 - function_terms type -  <class 'list'>\n",
      "Print1 - index end range 3\n",
      "Print3 - count at the start of the loop:  0\n",
      "constant of the function tuple: 4\n",
      "exponent of the function tuple: 2\n",
      "(4, 2)  is type  <class 'tuple'>\n",
      "(4, 2)  is now  [4, 2]\n",
      "exponent is MORE than ONE\n",
      "THE FUNCTION DERIVATIVE of type  <class 'list'> =  [8, 1]\n",
      "converted to tuple is:  (8, 1)\n",
      "(8, 1)\n",
      "Print4 - count is 0  and list is  [(8, 1)]\n",
      "Print3 - count at the start of the loop:  1\n",
      "constant of the function tuple: 4\n",
      "exponent of the function tuple: 1\n",
      "(4, 1)  is type  <class 'tuple'>\n",
      "(4, 1)  is now  [4, 1]\n",
      "1  exponent of the x^0\n",
      "THE FUNCTION DERIVATIVE of type  <class 'list'> =  [4, 0]\n",
      "converted to tuple is:  (4, 0)\n",
      "(4, 0)\n",
      "Print4 - count is 1  and list is  [(8, 1), (4, 0)]\n",
      "Print3 - count at the start of the loop:  2\n",
      "constant of the function tuple: -10\n",
      "exponent of the function tuple: 0\n",
      "(-10, 0)  is type  <class 'tuple'>\n",
      "(-10, 0)  is now  [-10, 0]\n",
      "0  is exponent of function is EQUAL to ZERO\n",
      "THE FUNCTION DERIVATIVE of type  <class 'list'> =  [0, 0]\n",
      "converted to tuple is:  (0, 0)\n",
      "(0, 0)\n",
      "Print4 - count is 2  and list is  [(8, 1), (4, 0), (0, 0)]\n"
     ]
    },
    {
     "data": {
      "text/plain": [
       "[(8, 1), (4, 0), (0, 0)]"
      ]
     },
     "execution_count": 110,
     "metadata": {},
     "output_type": "execute_result"
    }
   ],
   "source": [
    "two_x_squared = [(2, 2)]\n",
    "one_x_plus_two = [(1, 1),(2,0)]\n",
    "four_x_squared_plus_four_x_minus_ten = [(4,2), (4,1), (-10,0)]\n",
    "four_x_squared = [(4,2)]\n",
    "\n",
    "find_derivative(four_x_squared_plus_four_x_minus_ten)"
   ]
  },
  {
   "cell_type": "code",
   "execution_count": 16,
   "metadata": {},
   "outputs": [
    {
     "name": "stdout",
     "output_type": "stream",
     "text": [
      "[(1, 1), (2, 0)]\n",
      "Print2 - function_terms type -  <class 'list'>\n",
      "Print1 - index end range 2\n",
      "Print3 - count at the start of the loop:  0\n",
      "constant of the function tuple: 1\n",
      "exponent of the function tuple: 1\n",
      "(1, 1)  is type  <class 'tuple'>\n",
      "(1, 1)  is now  [1, 1]\n",
      "1  exponent of the x^0\n",
      "THE FUNCTION DERIVATIVE of type  <class 'list'> =  [1, 0]\n",
      "converted to tuple is:  (1, 0)\n",
      "(1, 0)\n",
      "Print4 - count is 0  and list is  [(1, 0)]\n",
      "Print3 - count at the start of the loop:  1\n",
      "constant of the function tuple: 2\n",
      "exponent of the function tuple: 0\n",
      "(2, 0)  is type  <class 'tuple'>\n",
      "(2, 0)  is now  [2, 0]\n",
      "0  is exponent of function is EQUAL to ZERO\n",
      "THE FUNCTION DERIVATIVE of type  <class 'list'> =  [0, 0]\n",
      "converted to tuple is:  (0, 0)\n",
      "(0, 0)\n",
      "Print4 - count is 1  and list is  [(1, 0), (0, 0)]\n"
     ]
    },
    {
     "data": {
      "text/plain": [
       "[(1, 0), (0, 0)]"
      ]
     },
     "execution_count": 16,
     "metadata": {},
     "output_type": "execute_result"
    }
   ],
   "source": [
    "one_x_plus_two = [(1, 1),(2,0)]\n",
    "find_derivative(one_x_plus_two)"
   ]
  },
  {
   "cell_type": "code",
   "execution_count": 17,
   "metadata": {},
   "outputs": [
    {
     "name": "stdout",
     "output_type": "stream",
     "text": [
      "[(4, 3), (-3, 1)]\n",
      "Print2 - function_terms type -  <class 'list'>\n",
      "Print1 - index end range 2\n",
      "Print3 - count at the start of the loop:  0\n",
      "constant of the function tuple: 4\n",
      "exponent of the function tuple: 3\n",
      "(4, 3)  is type  <class 'tuple'>\n",
      "(4, 3)  is now  [4, 3]\n",
      "exponent is MORE than ONE\n",
      "THE FUNCTION DERIVATIVE of type  <class 'list'> =  [12, 2]\n",
      "converted to tuple is:  (12, 2)\n",
      "(12, 2)\n",
      "Print4 - count is 0  and list is  [(12, 2)]\n",
      "Print3 - count at the start of the loop:  1\n",
      "constant of the function tuple: -3\n",
      "exponent of the function tuple: 1\n",
      "(-3, 1)  is type  <class 'tuple'>\n",
      "(-3, 1)  is now  [-3, 1]\n",
      "1  exponent of the x^0\n",
      "THE FUNCTION DERIVATIVE of type  <class 'list'> =  [-3, 0]\n",
      "converted to tuple is:  (-3, 0)\n",
      "(-3, 0)\n",
      "Print4 - count is 1  and list is  [(12, 2), (-3, 0)]\n"
     ]
    },
    {
     "data": {
      "text/plain": [
       "[(12, 2), (-3, 0)]"
      ]
     },
     "execution_count": 17,
     "metadata": {},
     "output_type": "execute_result"
    }
   ],
   "source": [
    "four_x_cubed_minus_three_x = [(4, 3), (-3, 1)]\n",
    "\n",
    "find_derivative(four_x_cubed_minus_three_x)  # [(12, 2), (-3, 0)]\n"
   ]
  },
  {
   "cell_type": "code",
   "execution_count": 18,
   "metadata": {},
   "outputs": [
    {
     "name": "stdout",
     "output_type": "stream",
     "text": [
      "[(2, 2)]\n",
      "Print2 - function_terms type -  <class 'list'>\n",
      "Print1 - index end range 1\n",
      "Print3 - count at the start of the loop:  0\n",
      "constant of the function tuple: 2\n",
      "exponent of the function tuple: 2\n",
      "(2, 2)  is type  <class 'tuple'>\n",
      "(2, 2)  is now  [2, 2]\n",
      "exponent is MORE than ONE\n",
      "THE FUNCTION DERIVATIVE of type  <class 'list'> =  [4, 1]\n",
      "converted to tuple is:  (4, 1)\n",
      "(4, 1)\n",
      "Print4 - count is 0  and list is  [(4, 1)]\n"
     ]
    },
    {
     "data": {
      "text/plain": [
       "[(4, 1)]"
      ]
     },
     "execution_count": 18,
     "metadata": {},
     "output_type": "execute_result"
    }
   ],
   "source": [
    "two_x_squared = [(2, 2)]\n",
    "four_x_squared = [(4,2)]\n",
    "\n",
    "find_derivative(two_x_squared)"
   ]
  },
  {
   "cell_type": "markdown",
   "metadata": {},
   "source": [
    "One gotcha to note is when one of our terms is a constant, when taking the derivative, the constant is removed.  For example, when $f(x) = 3x^2 - 11$, the derivative $f'(x) = 6x$.  The reason why is because 11 is the same as $11*x^0$ which is also $11*1$, as anything raised to the zero power equals 1. And so the derivative of the term $11x^0$ equals $0*11*x^{-1} = 0$.  Our `find_derivative` function should return, using `filter`, only the terms whose derivatives are not multiplied by zero.  "
   ]
  },
  {
   "cell_type": "code",
   "execution_count": 33,
   "metadata": {
    "scrolled": false
   },
   "outputs": [
    {
     "name": "stdout",
     "output_type": "stream",
     "text": [
      "[(3, 2), (-11, 0)]\n",
      "Print2 - function_terms type -  <class 'list'>\n",
      "Print1 - index end range 2\n",
      "Print3 - count at the start of the loop:  0\n",
      "constant of the function tuple: 3\n",
      "exponent of the function tuple: 2\n",
      "(3, 2)  is type  <class 'tuple'>\n",
      "(3, 2)  is now  [3, 2]\n",
      "exponent is MORE than ONE\n",
      "THE FUNCTION DERIVATIVE of type  <class 'list'> =  [6, 1]\n",
      "converted to tuple is:  (6, 1)\n",
      "(6, 1)\n",
      "Print4 - count is 0  and list is  [(6, 1)]\n",
      "Print3 - count at the start of the loop:  1\n",
      "constant of the function tuple: -11\n",
      "exponent of the function tuple: 0\n",
      "(-11, 0)  is type  <class 'tuple'>\n",
      "(-11, 0)  is now  [-11, 0]\n",
      "0  is exponent of function is EQUAL to ZERO\n",
      "THE FUNCTION DERIVATIVE of type  <class 'list'> =  [0, 0]\n",
      "converted to tuple is:  (0, 0)\n",
      "(0, 0)\n",
      "Print4 - count is 1  and list is  [(6, 1), (0, 0)]\n"
     ]
    },
    {
     "data": {
      "text/plain": [
       "[(6, 1), (0, 0)]"
      ]
     },
     "execution_count": 33,
     "metadata": {},
     "output_type": "execute_result"
    }
   ],
   "source": [
    "three_x_squared_minus_eleven = [(3, 2), (-11, 0)]\n",
    "find_derivative(three_x_squared_minus_eleven) # [(6, 1)]"
   ]
  },
  {
   "cell_type": "code",
   "execution_count": 30,
   "metadata": {},
   "outputs": [
    {
     "name": "stdout",
     "output_type": "stream",
     "text": [
      "[(3, 2), (-11, 0)]\n",
      "Print2 - function_terms type -  <class 'list'>\n",
      "Print1 - index end range 2\n",
      "Print3 - count at the start of the loop:  0\n",
      "constant of the function tuple: 3\n",
      "exponent of the function tuple: 2\n",
      "(3, 2)  is type  <class 'tuple'>\n",
      "(3, 2)  is now  [3, 2]\n",
      "exponent is MORE than ONE\n",
      "THE FUNCTION DERIVATIVE of type  <class 'list'> =  [6, 1]\n",
      "converted to tuple is:  (6, 1)\n",
      "(6, 1)\n",
      "Print4 - count is 0  and list is  [(6, 1)]\n",
      "Print3 - count at the start of the loop:  1\n",
      "constant of the function tuple: -11\n",
      "exponent of the function tuple: 0\n",
      "(-11, 0)  is type  <class 'tuple'>\n",
      "(-11, 0)  is now  [-11, 0]\n",
      "0  is exponent of function is EQUAL to ZERO\n",
      "THE FUNCTION DERIVATIVE of type  <class 'list'> =  [0, 0]\n",
      "converted to tuple is:  (0, 0)\n",
      "(0, 0)\n",
      "Print4 - count is 1  and list is  [(6, 1), (0, 0)]\n"
     ]
    },
    {
     "data": {
      "text/plain": [
       "[(6, 1)]"
      ]
     },
     "execution_count": 30,
     "metadata": {},
     "output_type": "execute_result"
    }
   ],
   "source": [
    "three_x_squared_minus_eleven = [(3, 2), (-11, 0)]\n",
    "derivative_list = find_derivative(three_x_squared_minus_eleven)\n",
    "\n",
    "def remove_blanks(nonblank):\n",
    "  if nonblank == (0,0):\n",
    "    return False\n",
    "  else:\n",
    "    return True\n",
    "     \n",
    "filtered_derivative = list(filter(remove_blanks, derivative_list))\n",
    "\n",
    "filtered_derivative\n",
    "\n"
   ]
  },
  {
   "cell_type": "markdown",
   "metadata": {},
   "source": [
    "Our next function is called, `derivative_at` which, when provided a list of terms and a value $x$ at which to evaluate the derivative, returns the value of derivative at that point."
   ]
  },
  {
   "cell_type": "code",
   "execution_count": 2,
   "metadata": {},
   "outputs": [
    {
     "name": "stdout",
     "output_type": "stream",
     "text": [
      "check_term_if_single_polynomial is:  <class 'tuple'>\n",
      "check_length_of_terms is:  1\n",
      "<class 'tuple'>\n",
      "CHECKPOINT1: this is a single-term polynomial\n",
      "CHECKPOINT1: term is  (1, 2)\n"
     ]
    },
    {
     "data": {
      "text/plain": [
       "4"
      ]
     },
     "execution_count": 2,
     "metadata": {},
     "output_type": "execute_result"
    }
   ],
   "source": [
    "# THIS FUNCTION WILL ONLY WORK FOR A SINGLE TUPLE OR A LIST CONTAINING A TUPLE \n",
    "# OF TWO\n",
    "\n",
    "def output_at(term, x_value):\n",
    "    term = term\n",
    "    term_to_check = term[0]\n",
    "    check_term_if_single_polynomial = type(term_to_check)\n",
    "    check_length_of_terms = len(tuple(term))\n",
    "    \n",
    "    # CHECK_LENGTH_OF_TERMS converts the term into a tuple in order to get a tuple eg ((2,2),))\n",
    "    # as it can get confused with the length of a single double tuple\n",
    "    print('check_term_if_single_polynomial is: ',check_term_if_single_polynomial)\n",
    "    print('check_length_of_terms is: ', check_length_of_terms)\n",
    "    if check_term_if_single_polynomial == tuple and check_length_of_terms == 1:\n",
    "        print(check_term_if_single_polynomial)\n",
    "        print('CHECKPOINT1: this is a single-term polynomial')\n",
    "        fx_constant = term_to_check[0]\n",
    "        fx_exponent = term_to_check[1]\n",
    "        print('CHECKPOINT1: term is ', (fx_constant,fx_exponent))          \n",
    "    elif check_term_if_single_polynomial == int:\n",
    "        print(check_term_if_single_polynomial)\n",
    "        print('CHECKPOINT2: this is a single-term polynomial')\n",
    "        fx_constant=term[0]\n",
    "        fx_exponent=term[1]\n",
    "    else:\n",
    "        fx_constant=term[0]\n",
    "        fx_exponent=term[1]\n",
    "    f_x_output = 0\n",
    "    x_value=x_value\n",
    "    f_x_calculation = fx_constant*(x_value**fx_exponent)\n",
    "    f_x_output = f_x_calculation\n",
    "    return f_x_output\n",
    "    \n",
    "\n",
    "three_x_squared = [(3, 2)]\n",
    "a_tuple = (1,2)\n",
    "a_tuple_list = [(1,2)]\n",
    "\n",
    "\n",
    "term = a_tuple_list\n",
    "x_value=2\n",
    "output_at(term,x_value)\n",
    "\n"
   ]
  },
  {
   "cell_type": "code",
   "execution_count": 5,
   "metadata": {},
   "outputs": [
    {
     "name": "stdout",
     "output_type": "stream",
     "text": [
      "check_term_if_single_polynomial is:  <class 'tuple'>\n",
      "check_length_of_terms is:  3\n"
     ]
    },
    {
     "ename": "TypeError",
     "evalue": "unsupported operand type(s) for ** or pow(): 'int' and 'tuple'",
     "output_type": "error",
     "traceback": [
      "\u001b[0;31m\u001b[0m",
      "\u001b[0;31mTypeError\u001b[0mTraceback (most recent call last)",
      "\u001b[0;32m<ipython-input-5-4b1f19fa8202>\u001b[0m in \u001b[0;36m<module>\u001b[0;34m\u001b[0m\n\u001b[1;32m     50\u001b[0m \u001b[0mterm\u001b[0m \u001b[0;34m=\u001b[0m \u001b[0mc_mutli_term_polynomial\u001b[0m\u001b[0;34m\u001b[0m\u001b[0;34m\u001b[0m\u001b[0m\n\u001b[1;32m     51\u001b[0m \u001b[0mx_value\u001b[0m\u001b[0;34m=\u001b[0m\u001b[0;36m2\u001b[0m\u001b[0;34m\u001b[0m\u001b[0;34m\u001b[0m\u001b[0m\n\u001b[0;32m---> 52\u001b[0;31m \u001b[0moutput_at\u001b[0m\u001b[0;34m(\u001b[0m\u001b[0mterm\u001b[0m\u001b[0;34m,\u001b[0m\u001b[0mx_value\u001b[0m\u001b[0;34m)\u001b[0m\u001b[0;34m\u001b[0m\u001b[0;34m\u001b[0m\u001b[0m\n\u001b[0m",
      "\u001b[0;32m<ipython-input-2-ab9eb6d15973>\u001b[0m in \u001b[0;36moutput_at\u001b[0;34m(term, x_value)\u001b[0m\n\u001b[1;32m     28\u001b[0m     \u001b[0mf_x_output\u001b[0m \u001b[0;34m=\u001b[0m \u001b[0;36m0\u001b[0m\u001b[0;34m\u001b[0m\u001b[0;34m\u001b[0m\u001b[0m\n\u001b[1;32m     29\u001b[0m     \u001b[0mx_value\u001b[0m\u001b[0;34m=\u001b[0m\u001b[0mx_value\u001b[0m\u001b[0;34m\u001b[0m\u001b[0;34m\u001b[0m\u001b[0m\n\u001b[0;32m---> 30\u001b[0;31m     \u001b[0mf_x_calculation\u001b[0m \u001b[0;34m=\u001b[0m \u001b[0mfx_constant\u001b[0m\u001b[0;34m*\u001b[0m\u001b[0;34m(\u001b[0m\u001b[0mx_value\u001b[0m\u001b[0;34m**\u001b[0m\u001b[0mfx_exponent\u001b[0m\u001b[0;34m)\u001b[0m\u001b[0;34m\u001b[0m\u001b[0;34m\u001b[0m\u001b[0m\n\u001b[0m\u001b[1;32m     31\u001b[0m     \u001b[0mf_x_output\u001b[0m \u001b[0;34m=\u001b[0m \u001b[0mf_x_calculation\u001b[0m\u001b[0;34m\u001b[0m\u001b[0;34m\u001b[0m\u001b[0m\n\u001b[1;32m     32\u001b[0m     \u001b[0;32mreturn\u001b[0m \u001b[0mf_x_output\u001b[0m\u001b[0;34m\u001b[0m\u001b[0;34m\u001b[0m\u001b[0m\n",
      "\u001b[0;31mTypeError\u001b[0m: unsupported operand type(s) for ** or pow(): 'int' and 'tuple'"
     ]
    }
   ],
   "source": [
    "def term_output(term, x_value):\n",
    "    term = term\n",
    "    x_value=x_value\n",
    "    term_to_check = term[0]\n",
    "    check_term_if_single_polynomial = type(term_to_check)\n",
    "    check_length_of_terms = len(tuple(term))\n",
    "    f_x_output = []\n",
    "    # CHECK_LENGTH_OF_TERMS converts the term into a tuple in order to get a tuple eg ((2,2),))\n",
    "    # as it can get confused with the length of a single double tuple\n",
    "    print('check_term_if_single_polynomial is: ',check_term_if_single_polynomial)\n",
    "    print('check_length_of_terms is: ', check_length_of_terms)\n",
    "    if check_term_if_single_polynomial == tuple and check_length_of_terms == 1:\n",
    "        print(check_term_if_single_polynomial)\n",
    "        print('CHECKPOINT1: this is a single-term polynomial')\n",
    "        fx_constant = term_to_check[0]\n",
    "        fx_exponent = term_to_check[1]\n",
    "        print('CHECKPOINT1: term is ', (fx_constant,fx_exponent))          \n",
    "        term = (fx_constant,fx_exponent)\n",
    "        print(' term is type:', (fx_constant,fx_exponent))\n",
    "        print()\n",
    "        f_x_output.append(output_at(term,x_value))\n",
    "    elif check_term_if_single_polynomial == int:\n",
    "        print(check_term_if_single_polynomial)\n",
    "        print('CHECKPOINT2: this is a single-term polynomial')\n",
    "        fx_constant=term[0]\n",
    "        fx_exponent=term[1]\n",
    "        print('CHECKPOINT2: ', (fx_constant,fx_exponent))\n",
    "        term = (fx_constant,fx_exponent)\n",
    "        print(' term is type:', (fx_constant,fx_exponent))\n",
    "        print()\n",
    "        f_x_output.append(output_at(term,x_value))\n",
    "    else:\n",
    "        print('Multi-term f_x function:', term)\n",
    "        count = len(term)\n",
    "        for c in range(0,count):\n",
    "            term = term[c]\n",
    "            print('count = ', c)\n",
    "            f_x_output.append(output_at(term,x_value))\n",
    "    print('f_x_output is:', f_x_output)\n",
    "    fx_output_at_result = sum(f_x_output)\n",
    "    return fx_output_at_result\n",
    "              \n",
    "three_x_squared_minus_eleven = [(3, 2), (-11, 0)]\n",
    "three_x_squared = [(3, 2)]\n",
    "a_tuple = (1,2)\n",
    "a_tuple_list = [(1,2)]\n",
    "b_two_double_tuples = (3,4),(1,2)\n",
    "b_two_double_tuples_list = [(3,4),(1,2)]\n",
    "c_mutli_term_polynomial = (5,6),(3,4),(1,2)\n",
    "\n",
    "term = c_mutli_term_polynomial\n",
    "x_value=2\n",
    "output_at(term,x_value)"
   ]
  },
  {
   "cell_type": "code",
   "execution_count": null,
   "metadata": {},
   "outputs": [],
   "source": []
  },
  {
   "cell_type": "code",
   "execution_count": 14,
   "metadata": {},
   "outputs": [
    {
     "name": "stdout",
     "output_type": "stream",
     "text": [
      "[(3, 2), (-11, 0)]\n",
      "Print2 - function_terms type -  <class 'list'>\n",
      "Print1 - index end range 2\n",
      "Print3 - count at the start of the loop:  0\n",
      "constant of the function tuple: 3\n",
      "exponent of the function tuple: 2\n",
      "(3, 2)  is type  <class 'tuple'>\n",
      "(3, 2)  is now  [3, 2]\n",
      "exponent is MORE than ONE\n",
      "THE FUNCTION DERIVATIVE of type  <class 'list'> =  [6, 1]\n",
      "converted to tuple is:  (6, 1)\n",
      "(6, 1)\n",
      "Print4 - count is 0  and list is  [(6, 1)]\n",
      "Print3 - count at the start of the loop:  1\n",
      "constant of the function tuple: -11\n",
      "exponent of the function tuple: 0\n",
      "(-11, 0)  is type  <class 'tuple'>\n",
      "(-11, 0)  is now  [-11, 0]\n",
      "0  is exponent of function is EQUAL to ZERO\n",
      "THE FUNCTION DERIVATIVE of type  <class 'list'> =  [0, 0]\n",
      "converted to tuple is:  (0, 0)\n",
      "(0, 0)\n",
      "Print4 - count is 1  and list is  [(6, 1), (0, 0)]\n"
     ]
    },
    {
     "ename": "TypeError",
     "evalue": "'int' object is not iterable",
     "output_type": "error",
     "traceback": [
      "\u001b[0;31m\u001b[0m",
      "\u001b[0;31mTypeError\u001b[0mTraceback (most recent call last)",
      "\u001b[0;32m<ipython-input-14-d34e9781d482>\u001b[0m in \u001b[0;36m<module>\u001b[0;34m\u001b[0m\n\u001b[1;32m    124\u001b[0m \u001b[0mterms\u001b[0m \u001b[0;34m=\u001b[0m \u001b[0;34m[\u001b[0m\u001b[0;34m(\u001b[0m\u001b[0;36m3\u001b[0m\u001b[0;34m,\u001b[0m \u001b[0;36m2\u001b[0m\u001b[0;34m)\u001b[0m\u001b[0;34m,\u001b[0m \u001b[0;34m(\u001b[0m\u001b[0;34m-\u001b[0m\u001b[0;36m11\u001b[0m\u001b[0;34m,\u001b[0m \u001b[0;36m0\u001b[0m\u001b[0;34m)\u001b[0m\u001b[0;34m]\u001b[0m\u001b[0;34m\u001b[0m\u001b[0;34m\u001b[0m\u001b[0m\n\u001b[1;32m    125\u001b[0m \u001b[0mx\u001b[0m\u001b[0;34m=\u001b[0m\u001b[0;36m2\u001b[0m\u001b[0;34m\u001b[0m\u001b[0;34m\u001b[0m\u001b[0m\n\u001b[0;32m--> 126\u001b[0;31m \u001b[0mderivative_at\u001b[0m\u001b[0;34m(\u001b[0m\u001b[0mterms\u001b[0m\u001b[0;34m,\u001b[0m \u001b[0mx\u001b[0m\u001b[0;34m)\u001b[0m\u001b[0;34m\u001b[0m\u001b[0;34m\u001b[0m\u001b[0m\n\u001b[0m",
      "\u001b[0;32m<ipython-input-14-d34e9781d482>\u001b[0m in \u001b[0;36mderivative_at\u001b[0;34m(terms, x)\u001b[0m\n\u001b[1;32m    113\u001b[0m     \u001b[0mterm\u001b[0m\u001b[0;34m=\u001b[0m\u001b[0;34m[\u001b[0m\u001b[0;34m]\u001b[0m\u001b[0;34m\u001b[0m\u001b[0;34m\u001b[0m\u001b[0m\n\u001b[1;32m    114\u001b[0m     \u001b[0mn\u001b[0m\u001b[0;34m=\u001b[0m\u001b[0;36m0\u001b[0m\u001b[0;34m\u001b[0m\u001b[0;34m\u001b[0m\u001b[0m\n\u001b[0;32m--> 115\u001b[0;31m     \u001b[0;32mfor\u001b[0m \u001b[0mn\u001b[0m \u001b[0;32min\u001b[0m \u001b[0mlen\u001b[0m\u001b[0;34m(\u001b[0m\u001b[0mfiltered_list_of_terms\u001b[0m\u001b[0;34m)\u001b[0m\u001b[0;34m:\u001b[0m\u001b[0;34m\u001b[0m\u001b[0;34m\u001b[0m\u001b[0m\n\u001b[0m\u001b[1;32m    116\u001b[0m         \u001b[0mterm\u001b[0m \u001b[0;34m=\u001b[0m \u001b[0mfiltered_list_of_terms\u001b[0m\u001b[0;34m[\u001b[0m\u001b[0mn\u001b[0m\u001b[0;34m]\u001b[0m\u001b[0;34m\u001b[0m\u001b[0;34m\u001b[0m\u001b[0m\n\u001b[1;32m    117\u001b[0m         \u001b[0mderivative_output\u001b[0m \u001b[0;34m=\u001b[0m \u001b[0mterm_output\u001b[0m\u001b[0;34m(\u001b[0m\u001b[0mterm\u001b[0m\u001b[0;34m,\u001b[0m \u001b[0mx_value\u001b[0m\u001b[0;34m)\u001b[0m\u001b[0;34m\u001b[0m\u001b[0;34m\u001b[0m\u001b[0m\n",
      "\u001b[0;31mTypeError\u001b[0m: 'int' object is not iterable"
     ]
    }
   ],
   "source": [
    "def term_output(term, x_value):\n",
    "    \n",
    "\n",
    "def derivative_at(terms, x):\n",
    "    terms = terms\n",
    "    x = x\n",
    "    function_terms = terms\n",
    "    derivative_list = find_derivative(function_terms)\n",
    "    filtered_list_of_terms=[]\n",
    "    #for num in len(derivative_list)\n",
    "    filtered_list_of_terms = list(filter(remove_blanks, derivative_list))\n",
    "    \n",
    "    output_of_terms=[]\n",
    "    result=0\n",
    "    term=[] \n",
    "    n=0\n",
    "    for n in len(filtered_list_of_terms):\n",
    "        term = filtered_list_of_terms[n]\n",
    "        derivative_output = term_output(term, x_value)\n",
    "        output_of_terms.append(derivative_output)\n",
    "        print(output_of_terms) \n",
    "    return output_of_terms\n",
    "\n",
    "three_x_squared_minus_eleven = [(3, 2), (-11, 0)]\n",
    "three_x_squared = [(3, 2)]\n",
    "terms = [(3, 2), (-11, 0)]\n",
    "x=2\n",
    "derivative_at(terms, x)"
   ]
  },
  {
   "cell_type": "code",
   "execution_count": null,
   "metadata": {},
   "outputs": [],
   "source": [
    "#I am rewriting the above functions to be clearer with my working out"
   ]
  },
  {
   "cell_type": "code",
   "execution_count": 6,
   "metadata": {},
   "outputs": [
    {
     "name": "stdout",
     "output_type": "stream",
     "text": [
      "[1, 2, 3]  is type:  <class 'list'>\n",
      "(1, 2, 3)  is type:  <class 'tuple'>\n"
     ]
    }
   ],
   "source": [
    "a_list = [1,2,3]\n",
    "convert_a_list_to_tuple = tuple(a_list)\n",
    "print(a_list,' is type: ', type(a_list))\n",
    "print(convert_a_list_to_tuple,' is type: ', type(convert_a_list_to_tuple))"
   ]
  },
  {
   "cell_type": "code",
   "execution_count": 104,
   "metadata": {},
   "outputs": [
    {
     "name": "stdout",
     "output_type": "stream",
     "text": [
      "<class 'tuple'>\n"
     ]
    },
    {
     "data": {
      "text/plain": [
       "(1, 2)"
      ]
     },
     "execution_count": 104,
     "metadata": {},
     "output_type": "execute_result"
    }
   ],
   "source": [
    "x=1\n",
    "y=2\n",
    "mylist=[]\n",
    "f_x=None\n",
    "mylist.append(x)\n",
    "mylist.append(y)\n",
    "f_x=(x,y)\n",
    "print(type(f_x))\n",
    "f_x\n"
   ]
  },
  {
   "cell_type": "code",
   "execution_count": 5,
   "metadata": {},
   "outputs": [
    {
     "name": "stdout",
     "output_type": "stream",
     "text": [
      "[1, 2, 3]  is type:  <class 'list'>\n",
      "6  is type:  <class 'int'>\n",
      "(1, 2, 3)  is type:  <class 'tuple'>\n",
      "6  is type:  <class 'int'>\n"
     ]
    },
    {
     "data": {
      "text/plain": [
       "6"
      ]
     },
     "execution_count": 5,
     "metadata": {},
     "output_type": "execute_result"
    }
   ],
   "source": [
    "#THIS EXAMPLE SHOWS THE SUM OF THE ELEMENTS IN X\n",
    "convert_a_list_to_tuple\n",
    "sum_of_x=sum(x)\n",
    "print(x,' is type: ', type(x))\n",
    "print(sum_of_x,' is type: ', type(sum_of_x))\n",
    "sum_of_x\n"
   ]
  },
  {
   "cell_type": "code",
   "execution_count": 4,
   "metadata": {},
   "outputs": [
    {
     "name": "stdout",
     "output_type": "stream",
     "text": [
      "(1, 2, 3)  is type:  <class 'tuple'>\n",
      "6  is type:  <class 'int'>\n"
     ]
    },
    {
     "data": {
      "text/plain": [
       "6"
      ]
     },
     "execution_count": 4,
     "metadata": {},
     "output_type": "execute_result"
    }
   ],
   "source": [
    "#example of how to add all elements in a tuple\n",
    "y=(1,2,3)\n",
    "sum_of_y=sum(y)\n",
    "print(y,' is type: ', type(y))\n",
    "print(sum_of_y,' is type: ', type(sum_of_y))\n",
    "sum_of_y"
   ]
  },
  {
   "cell_type": "code",
   "execution_count": 1,
   "metadata": {},
   "outputs": [
    {
     "name": "stdout",
     "output_type": "stream",
     "text": [
      "length of a:  (1, 2) is  2  is type:  <class 'int'>\n",
      "length of b:  (3, 4) is  2  is type:  <class 'int'>\n",
      "lengths are equal\n"
     ]
    }
   ],
   "source": [
    "a = (1,2)\n",
    "b = (3,4)\n",
    "length_a = len(a)\n",
    "length_b = len(b)\n",
    "print('length of a: ',a,'is ',length_a,' is type: ',type(length_a))\n",
    "print('length of b: ',b,'is ',length_b,' is type: ',type(length_b))\n",
    "\n",
    "def are_lengths_equal(length_a,length_b):\n",
    "    if length_a == length_b:\n",
    "        return print('lengths are equal')\n",
    "    else:\n",
    "        return print('lengths are not equal')\n",
    "    \n",
    "are_lengths_equal(length_a,length_b)"
   ]
  },
  {
   "cell_type": "code",
   "execution_count": 33,
   "metadata": {},
   "outputs": [
    {
     "name": "stdout",
     "output_type": "stream",
     "text": [
      "(1, 2)  is  <class 'tuple'>\n",
      "length of A:  (1, 2) is  2  is type:  <class 'int'>\n",
      "A converted to list is: [1, 2] <class 'list'>\n",
      "first element of A: 1\n",
      "second element of A: 2\n",
      "\n",
      "((1, 2), (3, 4))  is  <class 'tuple'>\n",
      "length of B:  ((1, 2), (3, 4)) is  2  is type:  <class 'int'>\n",
      "B converted to list is: [(1, 2), (3, 4)] <class 'list'>\n",
      "first element of B: (1, 2)\n",
      "second element of B: (3, 4)\n",
      "\n",
      "lengths are equal\n",
      "\n",
      "a is a tuple\n"
     ]
    }
   ],
   "source": [
    "a = (1,2)\n",
    "length_a = len(a)\n",
    "print(a,' is ', type(a))\n",
    "print('length of A: ',a,'is ',length_a,' is type: ',type(length_a))\n",
    "print('A converted to list is:',list(a),type(list(a)))\n",
    "print('first element of A:',a[0])\n",
    "print('second element of A:',a[1])\n",
    "\n",
    "print()\n",
    "\n",
    "b = (1,2),(3,4)\n",
    "length_b = len(b)\n",
    "print(b,' is ', type(b))\n",
    "print('length of B: ',b,'is ',length_b,' is type: ',type(length_b))\n",
    "print('B converted to list is:',list(b),type(list(b)))\n",
    "print('first element of B:',b[0])\n",
    "print('second element of B:',b[1])\n",
    "\n",
    "def are_lengths_equal(length_a,length_b):\n",
    "    if length_a == length_b:\n",
    "        return print('lengths are equal')\n",
    "    else:\n",
    "        return print('lengths are not equal')\n",
    "\n",
    "print()\n",
    "are_lengths_equal(length_a,length_b)\n",
    "\n",
    "print()\n",
    "if type(a) == list:\n",
    "    print(\"a is a list\")\n",
    "else:\n",
    "    print(\"a is a tuple\")\n",
    "\n",
    "\n"
   ]
  },
  {
   "cell_type": "code",
   "execution_count": 59,
   "metadata": {
    "scrolled": true
   },
   "outputs": [
    {
     "name": "stdout",
     "output_type": "stream",
     "text": [
      "a[0] =  1\n",
      "type a[0]:  <class 'int'>\n",
      "\n",
      "1\n",
      "\n",
      "len_of_first_A_string_element:  1\n",
      "\n",
      "b[0] =  (1, 2)\n",
      "type b[0]:  <class 'tuple'>\n",
      "\n",
      "(1, 2)\n",
      "\n",
      "len_of_first_B_string_element:  6\n"
     ]
    }
   ],
   "source": [
    "# examples to find out if using string was a good measure of length\n",
    "# when there is one double tuple of a term\n",
    "a = (1,2)\n",
    "length_a = len(a)\n",
    "\n",
    "print('a[0] = ', a[0])\n",
    "print('type a[0]: ', type(a[0]))\n",
    "print()\n",
    "convert_first_a_element_to_string = str((a[0]))\n",
    "print(convert_first_a_element_to_string)\n",
    "print()\n",
    "len_of_first_a_string_element = len(convert_first_a_element_to_string)\n",
    "print('len_of_first_A_string_element: ',len_of_first_a_string_element)\n",
    "print()\n",
    "\n",
    "b = (1,2),(3,4)\n",
    "length_b = len(b)\n",
    "\n",
    "print('b[0] = ', b[0])\n",
    "print('type b[0]: ', type(b[0]))\n",
    "print()\n",
    "convert_first_b_element_to_string = str((b[0]))\n",
    "print(convert_first_b_element_to_string)\n",
    "print()\n",
    "len_of_first_b_string_element = len(convert_first_b_element_to_string)\n",
    "print('len_of_first_B_string_element: ',len_of_first_b_string_element)\n",
    "\n"
   ]
  },
  {
   "cell_type": "code",
   "execution_count": 30,
   "metadata": {},
   "outputs": [
    {
     "name": "stdout",
     "output_type": "stream",
     "text": [
      "term[0] =  (1, 2)\n",
      "type term[0]:  <class 'tuple'>\n",
      "<class 'tuple'>\n",
      "this is a multi-term polynomial\n"
     ]
    },
    {
     "data": {
      "text/plain": [
       "[(1, 2)]"
      ]
     },
     "execution_count": 30,
     "metadata": {},
     "output_type": "execute_result"
    }
   ],
   "source": [
    "a_tuple = (1,2)\n",
    "length_a_tuple = len(a_tuple)\n",
    "\n",
    "a_tuple_list = [(1,2)]\n",
    "length_a_tuple = len(a_tuple_list)\n",
    "\n",
    "\n",
    "b_two_double_tuples = (3,4),(1,2)\n",
    "length_b_two_double_tuples = len(b_two_double_tuples)\n",
    "\n",
    "b_two_double_tuples_list = [(3,4),(1,2)]\n",
    "length_b_two_double_tuples = len(b_two_double_tuples_list)\n",
    "\n",
    "c_mutli_term_polynomial = (5,6),(3,4),(1,2)\n",
    "length_c_mutli_term_polynomial = len(c_mutli_term_polynomial)\n",
    "\n",
    "term = a_tuple_list\n",
    "print('term[0] = ', term[0])\n",
    "print('type term[0]: ', type(term[0]))\n",
    "\n",
    "def is_derivative_single_polynomial_tuple(term):\n",
    "    check_term_if_single_polynomial = type(term[0])\n",
    "    if check_term_if_single_polynomial == int:\n",
    "        print(check_term_if_single_polynomial)\n",
    "        return print('this is a single-term polynomial')\n",
    "    else:\n",
    "        print(check_term_if_single_polynomial)\n",
    "        return print('this is a multi-term polynomial')\n",
    "is_derivative_single_polynomial_tuple(term)\n",
    "term"
   ]
  },
  {
   "cell_type": "code",
   "execution_count": 34,
   "metadata": {},
   "outputs": [
    {
     "name": "stdout",
     "output_type": "stream",
     "text": [
      "term[0] =  (1, 2)\n",
      "type term[0]:  <class 'tuple'>\n",
      "check_term_if_single_polynomial is:  <class 'tuple'>\n",
      "check_length_of_terms is:  1\n",
      "<class 'tuple'>\n",
      "CHECKPOINT1: this is a single-term polynomial\n"
     ]
    },
    {
     "data": {
      "text/plain": [
       "True"
      ]
     },
     "execution_count": 34,
     "metadata": {},
     "output_type": "execute_result"
    }
   ],
   "source": [
    "a_tuple = (1,2)\n",
    "a_tuple_list = [(1,2)]\n",
    "b_two_double_tuples = (3,4),(1,2)\n",
    "b_two_double_tuples_list = [(3,4),(1,2)]\n",
    "c_mutli_term_polynomial = (5,6),(3,4),(1,2)\n",
    "\n",
    "term = a_tuple_list\n",
    "length_of_term = len(term)\n",
    "print('term[0] = ', term[0])\n",
    "print('type term[0]: ', type(term[0]))\n",
    "\n",
    "\n",
    "def is_derivative_single_polynomial_tuple(term): \n",
    "    check_term_if_single_polynomial = type(term[0])\n",
    "    check_length_of_terms = len(tuple(term))\n",
    "    # CHECK_LENGTH_OF_TERMS converts the term into a tuple in order to get a tuple eg ((2,2),))\n",
    "    # as it can get confused with the length of a single double tuple\n",
    "    print('check_term_if_single_polynomial is: ',check_term_if_single_polynomial)\n",
    "    print('check_length_of_terms is: ', check_length_of_terms)\n",
    "  \n",
    "    if check_term_if_single_polynomial == tuple and check_length_of_terms == 1:\n",
    "        print(check_term_if_single_polynomial)\n",
    "        return print('CHECKPOINT1: this is a single-term polynomial')\n",
    "    elif check_term_if_single_polynomial == int:\n",
    "        print(check_term_if_single_polynomial)\n",
    "        return print('CHECKPOINT2: this is a single-term polynomial')\n",
    "    else:\n",
    "        print(check_term_if_single_polynomial)\n",
    "        return print('this is a multi-term polynomial')\n",
    "\n",
    "def is_derivative_single_polynomial_tuple_test_true(term): \n",
    "    check_term_if_single_polynomial = type(term[0])\n",
    "    check_length_of_terms = len(tuple(term))\n",
    "    # CHECK_LENGTH_OF_TERMS converts the term into a tuple in order to get a tuple eg ((2,2),))\n",
    "    # as it can get confused with the length of a single double tuple\n",
    "    print('check_term_if_single_polynomial is: ',check_term_if_single_polynomial)\n",
    "    print('check_length_of_terms is: ', check_length_of_terms)\n",
    "  \n",
    "    if check_term_if_single_polynomial == tuple and check_length_of_terms == 1:\n",
    "        print(check_term_if_single_polynomial)\n",
    "        print('CHECKPOINT1: this is a single-term polynomial')\n",
    "        return True\n",
    "    elif check_term_if_single_polynomial == int:\n",
    "        print(check_term_if_single_polynomial)\n",
    "        print('CHECKPOINT2: this is a single-term polynomial')\n",
    "        return True\n",
    "    else:\n",
    "        print(check_term_if_single_polynomial)\n",
    "        print('this is a multi-term polynomial')\n",
    "        return False\n",
    "    \n",
    "test = is_derivative_single_polynomial_tuple_test_true(term)\n",
    "test"
   ]
  },
  {
   "cell_type": "code",
   "execution_count": 39,
   "metadata": {
    "scrolled": true
   },
   "outputs": [
    {
     "name": "stdout",
     "output_type": "stream",
     "text": [
      "term[0] constant =  (3, 4)\n",
      "type term[0]:  <class 'tuple'>\n",
      "\n",
      "check_term_if_single_polynomial is:  <class 'tuple'>\n",
      "check_length_of_terms is:  2\n",
      "Not tuple\n"
     ]
    }
   ],
   "source": [
    "a_tuple = (1,2)\n",
    "a_tuple_list = [(1,2)]\n",
    "b_two_double_tuples = (3,4),(1,2)\n",
    "b_two_double_tuples_list = [(3,4),(1,2)]\n",
    "c_mutli_term_polynomial = (5,6),(3,4),(1,2)\n",
    "\n",
    "term = b_two_double_tuples \n",
    "length_of_term = len(term)\n",
    "print('term[0] constant = ', term[0])\n",
    "print('type term[0]: ', type(term[0]))\n",
    "print()\n",
    "\n",
    "def find_term_derivative(term):\n",
    "    term = term\n",
    "    term_to_check = term[0]\n",
    "    check_term_if_single_polynomial = type(term_to_check)\n",
    "    check_length_of_terms = len(tuple(term))\n",
    "    \n",
    "    # CHECK_LENGTH_OF_TERMS converts the term into a tuple in order to get a tuple eg ((2,2),))\n",
    "    # as it can get confused with the length of a single double tuple\n",
    "    print('check_term_if_single_polynomial is: ',check_term_if_single_polynomial)\n",
    "    print('check_length_of_terms is: ', check_length_of_terms)\n",
    "  \n",
    "    if check_term_if_single_polynomial == tuple and check_length_of_terms == 1:\n",
    "        print(check_term_if_single_polynomial)\n",
    "        print('CHECKPOINT1: this is a single-term polynomial')\n",
    "        fx_constant = term_to_check[0]\n",
    "        fx_exponent = term_to_check[1]\n",
    "        return print((fx_constant,fx_exponent))\n",
    "    \n",
    "    elif check_term_if_single_polynomial == int:\n",
    "        print(check_term_if_single_polynomial)\n",
    "        print('CHECKPOINT2: this is a single-term polynomial')\n",
    "        fx_constant=term[0]\n",
    "        fx_exponent=term[1]\n",
    "        return print((fx_constant,fx_exponent))\n",
    "    else:\n",
    "        return print('Not tuple')\n",
    "        \n",
    "\n",
    "test_tuple=find_term_derivative(term)\n",
    "test_tuple"
   ]
  },
  {
   "cell_type": "code",
   "execution_count": 42,
   "metadata": {},
   "outputs": [
    {
     "name": "stdout",
     "output_type": "stream",
     "text": [
      "check_term_if_single_polynomial is:  <class 'tuple'>\n",
      "check_length_of_terms is:  1\n",
      "<class 'tuple'>\n",
      "CHECKPOINT1: this is a single-term polynomial\n",
      "check_term_if_single_polynomial is:  <class 'tuple'>\n",
      "check_length_of_terms is:  2\n",
      "Not tuple\n",
      "f-prime of  [(1, 2)]  is  None\n"
     ]
    }
   ],
   "source": [
    "# this function works out if the term is single or multi_terms\n",
    "# so that the derivative can be found for a single-term polynomial\n",
    "\n",
    "def find_term_derivative(term):\n",
    "    term = term\n",
    "    term_to_check = term[0]\n",
    "    check_term_if_single_polynomial = type(term_to_check)\n",
    "    check_length_of_terms = len(tuple(term))\n",
    "    \n",
    "    # CHECK_LENGTH_OF_TERMS converts the term into a tuple in order to get a tuple eg ((2,2),))\n",
    "    # as it can get confused with the length of a single double tuple\n",
    "    print('check_term_if_single_polynomial is: ',check_term_if_single_polynomial)\n",
    "    print('check_length_of_terms is: ', check_length_of_terms)\n",
    "  \n",
    "    if check_term_if_single_polynomial == tuple and check_length_of_terms == 1:\n",
    "        print(check_term_if_single_polynomial)\n",
    "        print('CHECKPOINT1: this is a single-term polynomial')\n",
    "        fx_constant = term_to_check[0]\n",
    "        fx_exponent = term_to_check[1]\n",
    "        return print((fx_constant,fx_exponent))\n",
    "    \n",
    "    elif check_term_if_single_polynomial == int:\n",
    "        print(check_term_if_single_polynomial)\n",
    "        print('CHECKPOINT2: this is a single-term polynomial')\n",
    "        fx_constant=term[0]\n",
    "        fx_exponent=term[1]\n",
    "        return print((fx_constant,fx_exponent))\n",
    "    else:\n",
    "        return print('Not tuple')\n",
    "    \n",
    "    \n",
    "def result_if_derivative_single_polynomial_tuple(term): \n",
    "    term = term\n",
    "    single_term_check_result = is_derivative_single_polynomial_tuple_true_or_false(term)\n",
    "    if single_term_check_result == True:\n",
    "        f_x_prime = find_term_derivative(term)\n",
    "        print('f-prime of ', term,' is ',f_x_prime)\n",
    "        return f_x_prime \n",
    "    else:\n",
    "        print('this is a multi_term function')\n",
    "        return term\n",
    "    \n",
    "    \n",
    "a_tuple = (1,2)\n",
    "a_tuple_list = [(1,2)]\n",
    "b_two_double_tuples = (3,4),(1,2)\n",
    "b_two_double_tuples_list = [(3,4),(1,2)]\n",
    "c_mutli_term_polynomial = (5,6),(3,4),(1,2)\n",
    "\n",
    "term = a_tuple_list    \n",
    "result_if_derivative_single_polynomial_tuple(term)\n"
   ]
  },
  {
   "cell_type": "code",
   "execution_count": 60,
   "metadata": {},
   "outputs": [
    {
     "name": "stdout",
     "output_type": "stream",
     "text": [
      "check_term_if_single_polynomial is:  <class 'tuple'>\n",
      "check_length_of_terms is:  3\n",
      "Multi-term f_x function: ((5, 6), (3, 4), (1, 2))\n",
      "f_prime is type:  (30, 5) <class 'tuple'>\n",
      "f_prime is type:  (12, 3) <class 'tuple'>\n",
      "f_prime is type:  (2, 1) <class 'tuple'>\n",
      "f_prime_derivative is: [(30, 5), (12, 3), (2, 1)]\n"
     ]
    },
    {
     "data": {
      "text/plain": [
       "[(30, 5), (12, 3), (2, 1)]"
      ]
     },
     "execution_count": 60,
     "metadata": {},
     "output_type": "execute_result"
    }
   ],
   "source": [
    "# FIND_DERIVATIVE PROCESSES MULTIPLE FUNCTIONS INTO DERIVATIVES\n",
    "# DOES A CHECK TO SEE IF THE POLYNOMIAL IS SINGLE OR MULTI-TERM\n",
    "    \n",
    "def find_term_derivative(term):\n",
    "    term = term\n",
    "    fx_constant = term[0]\n",
    "    fx_exponent = term[1]\n",
    "    f_prime_derivative = ()\n",
    "    if fx_exponent == 0:\n",
    "        f_prime_derivative = (0,fx_exponent)\n",
    "    elif fx_exponent == 1:\n",
    "        f_prime_derivative = (fx_constant,0)\n",
    "    else:\n",
    "        f_prime_constant = fx_constant * fx_exponent\n",
    "        f_prime_exponent = fx_exponent - 1\n",
    "        f_prime_derivative =(f_prime_constant,f_prime_exponent)\n",
    "    print('f_prime is type: ',f_prime_derivative,type(f_prime_derivative))\n",
    "    return f_prime_derivative\n",
    "    \n",
    "    \n",
    "def find_derivative(function_terms):\n",
    "    term = function_terms\n",
    "    term_to_check = term[0]\n",
    "    check_term_if_single_polynomial = type(term_to_check)\n",
    "    check_length_of_terms = len(tuple(term))\n",
    "    f_prime_derivative = []\n",
    "    # CHECK_LENGTH_OF_TERMS converts the term into a tuple in order to get a tuple eg ((2,2),))\n",
    "    # as it can get confused with the length of a single double tuple\n",
    "    print('check_term_if_single_polynomial is: ',check_term_if_single_polynomial)\n",
    "    print('check_length_of_terms is: ', check_length_of_terms)\n",
    "  \n",
    "    if check_term_if_single_polynomial == tuple and check_length_of_terms == 1:\n",
    "        print(check_term_if_single_polynomial)\n",
    "        print('CHECKPOINT1: this is a single-term polynomial')\n",
    "        fx_constant = term_to_check[0]\n",
    "        fx_exponent = term_to_check[1]\n",
    "        print('CHECKPOINT1: ', (fx_constant,fx_exponent))\n",
    "        term = (fx_constant,fx_exponent)\n",
    "        f_prime_derivative.append(find_term_derivative(term))\n",
    "    elif check_term_if_single_polynomial == int:\n",
    "        print(check_term_if_single_polynomial)\n",
    "        print('CHECKPOINT2: this is a single-term polynomial')\n",
    "        fx_constant=term[0]\n",
    "        fx_exponent=term[1]\n",
    "        print('CHECKPOINT2: ', (fx_constant,fx_exponent))\n",
    "        term = (fx_constant,fx_exponent)\n",
    "        f_prime_derivative.append(find_term_derivative(term))\n",
    "    else:\n",
    "        print('Multi-term f_x function:', function_terms)\n",
    "        count = len(function_terms)\n",
    "        for c in range(0,count):\n",
    "            term = function_terms[c]\n",
    "            f_prime_derivative.append(find_term_derivative(term))\n",
    "    print('f_prime_derivative is:', f_prime_derivative)\n",
    "    return f_prime_derivative\n",
    "\n",
    "a_tuple = (1,2)\n",
    "a_tuple_list = [(1,2)]\n",
    "b_two_double_tuples = (3,4),(1,2)\n",
    "b_two_double_tuples_list = [(3,4),(1,2)]\n",
    "c_mutli_term_polynomial = (5,6),(3,4),(1,2)\n",
    "\n",
    "term = a_tuple_list\n",
    "function_terms = c_mutli_term_polynomial\n",
    "length_of_term = len(function_terms)\n",
    "\n",
    "find_derivative(function_terms)\n"
   ]
  },
  {
   "cell_type": "code",
   "execution_count": 1,
   "metadata": {},
   "outputs": [
    {
     "name": "stdout",
     "output_type": "stream",
     "text": [
      "check_term_if_single_polynomial is:  <class 'tuple'>\n",
      "check_length_of_terms is:  3\n",
      "Multi-term f_x function: ((5, 6), (3, 4), (1, 0))\n",
      "f_prime is type:  (30, 5) <class 'tuple'>\n",
      "f_prime is type:  (12, 3) <class 'tuple'>\n",
      "f_prime is type:  (0, 0) <class 'tuple'>\n",
      "f_prime_derivative is: [(30, 5), (12, 3), (0, 0)]\n",
      "f_prime_derivative tuple is: ((30, 5), (12, 3), (0, 0))\n"
     ]
    },
    {
     "data": {
      "text/plain": [
       "((30, 5), (12, 3))"
      ]
     },
     "execution_count": 1,
     "metadata": {},
     "output_type": "execute_result"
    }
   ],
   "source": [
    "# THIS FUNCTION REMOVES ALL THE BLANKS\n",
    "def remove_blanks(nonblank):\n",
    "  return nonblank != (0,0)\n",
    "\n",
    "\n",
    "# THIS FUNCTION WORKS OUT THE F PRIME/DERIVATIVE OF ANY FUNCTION F_X\n",
    "# AND REMOVES ALL THE BLANKS\n",
    "\n",
    "def find_term_derivative(term):\n",
    "    term = term\n",
    "    fx_constant = term[0]\n",
    "    fx_exponent = term[1]\n",
    "    f_prime_derivative = ()\n",
    "    if fx_exponent == 0:\n",
    "        f_prime_derivative = (0,fx_exponent)\n",
    "    elif fx_exponent == 1:\n",
    "        f_prime_derivative = (fx_constant,0)\n",
    "    else:\n",
    "        f_prime_constant = fx_constant * fx_exponent\n",
    "        f_prime_exponent = fx_exponent - 1\n",
    "        f_prime_derivative =(f_prime_constant,f_prime_exponent)\n",
    "    print('f_prime is type: ',f_prime_derivative,type(f_prime_derivative))\n",
    "    return f_prime_derivative\n",
    "    \n",
    "    \n",
    "def find_derivative(function_terms):\n",
    "    term = function_terms\n",
    "    term_to_check = term[0]\n",
    "    check_term_if_single_polynomial = type(term_to_check)\n",
    "    check_length_of_terms = len(tuple(term))\n",
    "    f_prime_derivative = []\n",
    "    # CHECK_LENGTH_OF_TERMS converts the term into a tuple in order to get a tuple eg ((2,2),))\n",
    "    # as it can get confused with the length of a single double tuple\n",
    "    print('check_term_if_single_polynomial is: ',check_term_if_single_polynomial)\n",
    "    print('check_length_of_terms is: ', check_length_of_terms)\n",
    "  \n",
    "    if check_term_if_single_polynomial == tuple and check_length_of_terms == 1:\n",
    "        print(check_term_if_single_polynomial)\n",
    "        print('CHECKPOINT1: this is a single-term polynomial')\n",
    "        fx_constant = term_to_check[0]\n",
    "        fx_exponent = term_to_check[1]\n",
    "        print('CHECKPOINT1: ', (fx_constant,fx_exponent))\n",
    "        term = (fx_constant,fx_exponent)\n",
    "        f_prime_derivative.append(find_term_derivative(term))\n",
    "    elif check_term_if_single_polynomial == int:\n",
    "        print(check_term_if_single_polynomial)\n",
    "        print('CHECKPOINT2: this is a single-term polynomial')\n",
    "        fx_constant=term[0]\n",
    "        fx_exponent=term[1]\n",
    "        print('CHECKPOINT2: ', (fx_constant,fx_exponent))\n",
    "        term = (fx_constant,fx_exponent)\n",
    "        f_prime_derivative.append(find_term_derivative(term))\n",
    "    else:\n",
    "        print('Multi-term f_x function:', function_terms)\n",
    "        count = len(function_terms)\n",
    "        for c in range(0,count):\n",
    "            term = function_terms[c]\n",
    "            f_prime_derivative.append(find_term_derivative(term))\n",
    "    print('f_prime_derivative is:', f_prime_derivative)\n",
    "    f_prime_derivative_tuple = tuple(f_prime_derivative)\n",
    "    print('f_prime_derivative tuple is:', f_prime_derivative_tuple)\n",
    "    filtered_derivative = filter(remove_blanks, f_prime_derivative_tuple)\n",
    "    f_prime_derivative_result = tuple(filtered_derivative)\n",
    "    return f_prime_derivative_result\n",
    "\n",
    "a_tuple = (1,2)\n",
    "a_tuple_list = [(1,2)]\n",
    "b_two_double_tuples = (3,4),(1,2)\n",
    "b_two_double_tuples_list = [(3,4),(1,2)]\n",
    "b_two_double_tuples_list_with_blanks = [(3,4),(1,2),(5,0)]\n",
    "c_mutli_term_polynomial = (5,6),(3,4),(1,2)\n",
    "c_mutli_term_polynomial_with_blanks = (5,6),(3,4),(1,0)\n",
    "\n",
    "term = a_tuple_list\n",
    "function_terms = c_mutli_term_polynomial_with_blanks \n",
    "length_of_term = len(function_terms)\n",
    "\n",
    "find_derivative(function_terms)\n",
    "\n",
    "\n",
    "\n",
    "\n"
   ]
  },
  {
   "cell_type": "code",
   "execution_count": null,
   "metadata": {},
   "outputs": [],
   "source": [
    "# Feel free to use the output_at function in solving this\n",
    "\n",
    "# calculus.py\n",
    "# def output_at(list_of_terms, x_value):\n",
    "#     outputs = list(map(lambda term: term_output(term, x_value), list_of_terms))\n",
    "#     return sum(outputs)\n",
    "\n",
    "from calculus import output_at\n",
    "\n",
    "\n",
    "    \n",
    "    \n",
    "    "
   ]
  },
  {
   "cell_type": "code",
   "execution_count": null,
   "metadata": {},
   "outputs": [],
   "source": [
    "find_derivative(three_x_squared_minus_eleven) # [(6, 1)]\n",
    "derivative_at(three_x_squared_minus_eleven, 2) # 12"
   ]
  },
  {
   "cell_type": "markdown",
   "metadata": {},
   "source": [
    "### Creating visualizations with our functions\n",
    "\n",
    "Now that we have done the work of calculating the derivatives, we can begin to show the derivatives of functions with Plotly. We have plotted derivatives previously, but we have need to consider $\\Delta x$ to do so.  Notice that with our rules, we no longer need to include $\\Delta x$ as a parameter for our derivative calculating functions.  Similarly, we will not need to include $\\Delta x$ as a parameter for our line tracing functions below.\n",
    "\n",
    "#### Plotting the tangent line\n",
    "\n",
    "First, let's take our `derivative_at` function, and use that in the `tangent_line` function below to display this calculation. The `derivative_at` a point on our function equals the slope of the tangent line, so we use the function to generate a `tangent_line` trace with the function below."
   ]
  },
  {
   "cell_type": "code",
   "execution_count": null,
   "metadata": {},
   "outputs": [],
   "source": [
    "from calculus import output_at\n",
    "\n",
    "def tangent_line(function_terms, x_value, line_length = 4):\n",
    "    x_minus = x_value - line_length\n",
    "    x_plus = x_value + line_length\n",
    "    y = output_at(function_terms, x_value)\n",
    "    ## here, we are using your function\n",
    "    deriv = derivative_at(function_terms, x_value)\n",
    "    y_minus = y - deriv * line_length\n",
    "    y_plus = y + deriv * line_length\n",
    "    return {'x': [x_minus, x_value, x_plus], 'y': [y_minus, y, y_plus]}"
   ]
  },
  {
   "cell_type": "code",
   "execution_count": null,
   "metadata": {},
   "outputs": [],
   "source": [
    "from graph import plot\n",
    "from plotly.offline import iplot, init_notebook_mode\n",
    "\n",
    "from calculus import derivative_trace, function_values_trace\n",
    "\n",
    "init_notebook_mode(connected=True)\n",
    "\n",
    "\n",
    "tangent_at_five_trace = tangent_line(three_x_squared_minus_eleven, 5, line_length = 4)\n",
    "three_x_squared_minus_eleven_trace = function_values_trace(three_x_squared_minus_eleven, list(range(-10, 10)))\n",
    "plot([three_x_squared_minus_eleven_trace, tangent_at_five_trace])"
   ]
  },
  {
   "cell_type": "code",
   "execution_count": null,
   "metadata": {},
   "outputs": [],
   "source": [
    "tangent_at_five_trace "
   ]
  },
  {
   "cell_type": "markdown",
   "metadata": {},
   "source": [
    "#### Graphing the derivative across a range of values\n",
    "\n",
    "We can also write a function that given a list of terms can plot the derivative across multiple values. After all, the derivative is just a function. For example, when $f(x) = 3x^2 - 11$, the derivative is $f'(x) = 6x$. And we know that we can plot multi-term functions with our `function_values_trace`."
   ]
  },
  {
   "cell_type": "code",
   "execution_count": null,
   "metadata": {},
   "outputs": [],
   "source": [
    "from calculus import function_values_trace\n",
    "three_x_squared_minus_eleven = [(3, 2), (-11, 0)]\n",
    "function_values_trace(three_x_squared_minus_eleven, list(range(-5, 5)))"
   ]
  },
  {
   "cell_type": "markdown",
   "metadata": {},
   "source": [
    "This is what function_values_trace looks like:\n",
    "\n",
    "> ```python\n",
    "    def function_values_trace(list_of_terms, x_values):\n",
    "        function_values = list(map(lambda x: output_at(list_of_terms, x),x_values))\n",
    "        return trace_values(x_values, function_values, mode = 'line')\n",
    "```\n"
   ]
  },
  {
   "cell_type": "code",
   "execution_count": null,
   "metadata": {},
   "outputs": [],
   "source": [
    "def derivative_function_trace(terms, x_values):\n",
    "    pass"
   ]
  },
  {
   "cell_type": "code",
   "execution_count": null,
   "metadata": {},
   "outputs": [],
   "source": [
    "three_x_squared_minus_eleven_derivative_trace = derivative_function_trace(three_x_squared_minus_eleven, list(range(-5, 5)))"
   ]
  },
  {
   "cell_type": "code",
   "execution_count": null,
   "metadata": {},
   "outputs": [],
   "source": [
    "three_x_squared_minus_eleven_derivative_trace"
   ]
  },
  {
   "cell_type": "markdown",
   "metadata": {},
   "source": [
    "So now that we can plot a nonlinear function with our `function_values_trace` and plot that function's derivative with the `derivative_function_trace` trace, we can now plot these traces side by side:"
   ]
  },
  {
   "cell_type": "code",
   "execution_count": null,
   "metadata": {},
   "outputs": [],
   "source": [
    "from plotly import tools\n",
    "import plotly\n",
    "import plotly.plotly as py\n",
    "\n",
    "from graph import make_subplots\n",
    "\n",
    "def side_by_side_derivative_rules(list_of_terms, x_values):\n",
    "    function_trace = function_values_trace(list_of_terms, x_values)\n",
    "    derivative_trace = derivative_function_trace(list_of_terms, x_values)\n",
    "    if derivative_trace and function_trace:\n",
    "        return make_subplots([function_trace], [derivative_trace])\n"
   ]
  },
  {
   "cell_type": "markdown",
   "metadata": {},
   "source": [
    "Here we'll do that with $f(x) = 3x^2 - 11$ and $f'(x) = 6x $."
   ]
  },
  {
   "cell_type": "code",
   "execution_count": null,
   "metadata": {},
   "outputs": [],
   "source": [
    "from graph import plot_figure\n",
    "side_by_side_three_x_squared_minus_eleven = side_by_side_derivative_rules(three_x_squared_minus_eleven, list(range(-5, 5)))\n",
    "if side_by_side_three_x_squared_minus_eleven:\n",
    "    plot_figure(side_by_side_three_x_squared_minus_eleven)"
   ]
  },
  {
   "cell_type": "markdown",
   "metadata": {},
   "source": [
    "Note that when the $x$ values of $f(x)$ are positive, the $f(x)$ begins increasing, therefore $f'(x)$ is greater than zero, which the graph on the right displays.  And the more positive the values $x$ for $f(x)$, the faster the rate of increase.  When our function $f(x)$ is negative, the function is decreasing, that is for every change in $x$, the change in $f(x)$ is negative, and therefore $f'(x)$ is negative."
   ]
  }
 ],
 "metadata": {
  "kernelspec": {
   "display_name": "Python 3",
   "language": "python",
   "name": "python3"
  },
  "language_info": {
   "codemirror_mode": {
    "name": "ipython",
    "version": 3
   },
   "file_extension": ".py",
   "mimetype": "text/x-python",
   "name": "python",
   "nbconvert_exporter": "python",
   "pygments_lexer": "ipython3",
   "version": "3.6.9"
  }
 },
 "nbformat": 4,
 "nbformat_minor": 2
}
